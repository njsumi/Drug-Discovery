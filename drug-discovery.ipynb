{
 "cells": [
  {
   "cell_type": "code",
   "execution_count": null,
   "metadata": {
    "id": "QidwCQOSWCkR"
   },
   "outputs": [],
   "source": [
    "!mamba install -c conda-forge rdkit\n",
    "\n",
    "%pip install -U numpy\n",
    "\n",
    "!pip install --pre deepchem\n",
    "import deepchem\n",
    "\n",
    "!wget https://storage.googleapis.com/inspirit-ai-data-bucket-1/Data/Deep%20Dives/AI%20%2B%20Healthcare/Sessions%201-5/Drug%20Discovery%20with%20GNNs/delaney-processed.csv\n",
    "!wget https://storage.googleapis.com/inspirit-ai-data-bucket-1/Data/Deep%20Dives/AI%20%2B%20Healthcare/Sessions%201-5/Drug%20Discovery%20with%20GNNs/tox21.csv.gz\n",
    "\n",
    "import gzip\n",
    "import shutil\n",
    "with gzip.open('tox21.csv.gz', 'rb') as f_in:\n",
    "    with open('tox21.csv', 'wb') as f_out:\n",
    "        shutil.copyfileobj(f_in, f_out)\n",
    "\n",
    "\n",
    "from deepchem.utils.save import load_from_disk\n",
    "\n",
    "import numpy as np\n",
    "import pandas as pd\n",
    "\n",
    "import matplotlib.pyplot as plt\n",
    "\n",
    "from sklearn.model_selection import train_test_split\n",
    "from sklearn import metrics\n",
    "\n",
    "from deepchem.models import GraphConvModel\n",
    "from sklearn.ensemble import RandomForestRegressor\n",
    "from sklearn.ensemble import RandomForestClassifier"
   ]
  },
  {
   "cell_type": "code",
   "execution_count": null,
   "metadata": {
    "id": "xasIM1gRB3dp"
   },
   "outputs": [],
   "source": [
    "solubility_data = pd.read_csv(\"delaney-processed.csv\")\n",
    "print (solubility_data.shape)\n",
    "solubility_data.head()"
   ]
  },
  {
   "cell_type": "code",
   "execution_count": null,
   "metadata": {
    "id": "IjbJCqA3F_0X"
   },
   "outputs": [],
   "source": [
    "input_cols = ['Minimum Degree', 'Molecular Weight', 'Number of H-Bond Donors', 'Number of Rings', 'Number of Rotatable Bonds', 'Polar Surface Area']\n",
    "output_cols = ['measured log solubility in mols per litre']\n",
    "\n",
    "X = solubility_data[input_cols]\n",
    "y = solubility_data[output_cols]"
   ]
  },
  {
   "cell_type": "code",
   "execution_count": null,
   "metadata": {
    "id": "2EjL0DGBGfRb"
   },
   "outputs": [],
   "source": [
    "X_train, X_test, y_train, y_test = train_test_split(X, y, test_size=0.2, shuffle = False)"
   ]
  },
  {
   "cell_type": "code",
   "execution_count": null,
   "metadata": {
    "id": "9jnhiOFjH0X4"
   },
   "outputs": [],
   "source": [
    "import sklearn\n",
    "from sklearn import linear_model\n",
    "\n",
    "lm = sklearn.linear_model.LinearRegression()\n",
    "\n",
    "lm.fit(X_train,y_train)"
   ]
  },
  {
   "cell_type": "code",
   "execution_count": null,
   "metadata": {
    "id": "q6bQF26_ITUp"
   },
   "outputs": [],
   "source": [
    "y_pred = lm.predict(X_test)\n",
    "print(metrics.r2_score(y_test, y_pred))"
   ]
  },
  {
   "cell_type": "code",
   "execution_count": null,
   "metadata": {
    "id": "5lpzxc4lEmxy"
   },
   "outputs": [],
   "source": [
    "plt.plot(y_test, y_pred, '.')\n",
    "plt.legend(['LinReg Predictions'])\n",
    "plt.xlabel(\"True Log Solubility\")\n",
    "plt.ylabel(\"Predicted Log Solubility\")"
   ]
  },
  {
   "cell_type": "code",
   "execution_count": null,
   "metadata": {
    "id": "44ECQig8EQUz"
   },
   "outputs": [],
   "source": [
    "esol_pred = solubility_data['ESOL predicted log solubility in mols per litre'].loc[y_test.index]"
   ]
  },
  {
   "cell_type": "code",
   "execution_count": null,
   "metadata": {
    "cellView": "form",
    "id": "q2kAYYXVG1zB"
   },
   "outputs": [],
   "source": [
    "print(metrics.r2_score(y_test, y_pred))\n",
    "print(metrics.r2_score(y_test, esol_pred))\n",
    "\n",
    "plt.plot(y_test, y_pred, '.')\n",
    "plt.plot(y_test, esol_pred, '.')\n",
    "plt.legend(['LinReg Predictions','ESOL Predictions'])\n",
    "plt.xlabel(\"True Log Solubility\")\n",
    "plt.ylabel(\"Predicted Log Solubility\")\n",
    "plt.show()"
   ]
  },
  {
   "cell_type": "code",
   "execution_count": null,
   "metadata": {
    "id": "xmxaSE_Lv3zM"
   },
   "outputs": [],
   "source": [
    "loader = deepchem.data.CSVLoader(tasks=[\"measured log solubility in mols per litre\"], \n",
    "                                 feature_field=\"smiles\", \n",
    "                                 featurizer=deepchem.feat.ConvMolFeaturizer())\n",
    "solubility_smiles_data = loader.create_dataset(\"delaney-processed.csv\")\n",
    "\n",
    "splitter = deepchem.splits.IndexSplitter()\n",
    "sol_train_dataset, sol_test_dataset = splitter.train_test_split(solubility_smiles_data,\n",
    "                                                                 frac_train=0.8)"
   ]
  },
  {
   "cell_type": "code",
   "execution_count": null,
   "metadata": {
    "cellView": "form",
    "id": "ywzghjPaJKY4"
   },
   "outputs": [],
   "source": [
    "import warnings\n",
    "warnings.filterwarnings('ignore')\n",
    "\n",
    "sol_gnn = GraphConvModel(n_tasks=1, mode='regression', dropout=0.2)\n",
    "sol_gnn.fit(sol_train_dataset, nb_epoch=600)"
   ]
  },
  {
   "cell_type": "code",
   "execution_count": null,
   "metadata": {
    "cellView": "form",
    "id": "xtffKfHUUc-D"
   },
   "outputs": [],
   "source": [
    "gnn_pred = sol_gnn.predict(sol_test_dataset)\n",
    "\n",
    "print(metrics.r2_score(y_test, y_pred))\n",
    "print(metrics.r2_score(y_test, esol_pred))\n",
    "print(metrics.r2_score(y_test, gnn_pred))\n",
    "\n",
    "plt.plot(y_test, y_pred, '.')\n",
    "plt.plot(y_test, esol_pred, '.')\n",
    "plt.plot(y_test, gnn_pred, '.')\n",
    "plt.legend(['LinReg Predictions','ESOL Predictions','GNN Predictions'])\n",
    "plt.xlabel(\"True Log Solubility\")\n",
    "plt.ylabel(\"Predicted Log Solubility\")\n",
    "plt.show()"
   ]
  },
  {
   "cell_type": "code",
   "execution_count": null,
   "metadata": {
    "cellView": "form",
    "id": "G0_9o5wJgyoc"
   },
   "outputs": [],
   "source": [
    "gnn_pred_series = pd.Series(gnn_pred.squeeze(), index = y_test.index)\n",
    "soluble = gnn_pred_series[gnn_pred_series > 0]\n",
    "print (len(soluble)/len(gnn_pred_series))\n",
    "solubility_data.loc[soluble.index]"
   ]
  },
  {
   "cell_type": "code",
   "execution_count": null,
   "metadata": {
    "cellView": "form",
    "id": "Tzz4-94rzdMV"
   },
   "outputs": [],
   "source": [
    "print (sol_train_dataset) #All data\n",
    "print (sol_train_dataset.X) #X data - molecules\n",
    "print (sol_train_dataset.X[0]) #First molecule"
   ]
  },
  {
   "cell_type": "code",
   "execution_count": null,
   "metadata": {
    "id": "jpIBNJDX1AQn"
   },
   "outputs": [],
   "source": [
    "my_molecule = sol_train_dataset.X[0] \n",
    "print (my_molecule.n_atoms) "
   ]
  },
  {
   "cell_type": "code",
   "execution_count": null,
   "metadata": {
    "cellView": "form",
    "id": "zJmfpOly1dGF"
   },
   "outputs": [],
   "source": [
    "print(sol_train_dataset.X[0].max_deg)\n",
    "print(sol_train_dataset.X[0].min_deg)\n",
    "print(sol_train_dataset.X[0].deg_list)\n",
    "print(sol_train_dataset.X[0].canon_adj_list)"
   ]
  },
  {
   "cell_type": "code",
   "execution_count": null,
   "metadata": {
    "id": "pjl2wV4F1tOc"
   },
   "outputs": [],
   "source": [
    "atom_features = my_molecule.get_atom_features()\n",
    "print (atom_features)\n",
    "print (atom_features.shape)"
   ]
  },
  {
   "cell_type": "code",
   "execution_count": null,
   "metadata": {
    "id": "W77Te8zSOmEI"
   },
   "outputs": [],
   "source": [
    "toxicity_data = pd.read_csv(\"tox21.csv\")\n",
    "toxicity_data.head()"
   ]
  },
  {
   "cell_type": "code",
   "execution_count": null,
   "metadata": {
    "id": "zDfCpjKVXfdp"
   },
   "outputs": [],
   "source": [
    "_, datasets, transformers = deepchem.molnet.load_tox21(featurizer='GraphConv')\n",
    "tox_train_dataset, tox_valid_dataset, tox_test_dataset = datasets"
   ]
  },
  {
   "cell_type": "code",
   "execution_count": null,
   "metadata": {
    "id": "mq5NtzFCXuxQ"
   },
   "outputs": [],
   "source": [
    "import warnings\n",
    "warnings.filterwarnings('ignore')\n",
    "\n",
    "tox_gnn = GraphConvModel(n_tasks=12, mode='classification', dropout=0.2)\n",
    "tox_gnn.fit(tox_train_dataset, nb_epoch=20)"
   ]
  },
  {
   "cell_type": "code",
   "execution_count": null,
   "metadata": {
    "id": "cAKjVjLdnHzf"
   },
   "outputs": [],
   "source": [
    "tox_pred = tox_gnn.predict(tox_test_dataset)[:,:,1]\n",
    "tox_pred"
   ]
  },
  {
   "cell_type": "code",
   "execution_count": null,
   "metadata": {
    "cellView": "form",
    "id": "vzSNpwH-u3e_"
   },
   "outputs": [],
   "source": [
    "tox_pred_class = (tox_pred > 0.5)"
   ]
  },
  {
   "cell_type": "code",
   "execution_count": null,
   "metadata": {
    "cellView": "form",
    "id": "DrmFzaMKnUgZ"
   },
   "outputs": [],
   "source": [
    "print (\"Baseline Accuracy is 100% minus\")\n",
    "print (tox_test_dataset.y.mean())\n",
    "\n",
    "\n",
    "print (\"Accuracy\")\n",
    "right_ans = tox_pred_class == tox_test_dataset.y\n",
    "print (right_ans.mean())"
   ]
  },
  {
   "cell_type": "code",
   "execution_count": null,
   "metadata": {
    "id": "6lV8qchRvpBw"
   },
   "outputs": [],
   "source": [
    "any_toxic = tox_pred_class.any(axis=1) \n",
    "print (any_toxic.shape)"
   ]
  },
  {
   "cell_type": "code",
   "execution_count": null,
   "metadata": {
    "cellView": "form",
    "id": "4uEW2nbhxJnE"
   },
   "outputs": [],
   "source": [
    "any_toxic = tox_pred_class.any(axis=1) \n",
    "1 - (any_toxic.mean())"
   ]
  },
  {
   "cell_type": "code",
   "execution_count": null,
   "metadata": {
    "cellView": "form",
    "id": "Yz0Um19JwRdI"
   },
   "outputs": [],
   "source": [
    ".31 * .16"
   ]
  }
 ],
 "metadata": {
  "accelerator": "GPU",
  "colab": {
   "collapsed_sections": [],
   "name": "Copy of Instructor Drug Discovery with GNNs.ipynb",
   "provenance": []
  },
  "kernelspec": {
   "display_name": "Python 3 (ipykernel)",
   "language": "python",
   "name": "python3"
  },
  "language_info": {
   "codemirror_mode": {
    "name": "ipython",
    "version": 3
   },
   "file_extension": ".py",
   "mimetype": "text/x-python",
   "name": "python",
   "nbconvert_exporter": "python",
   "pygments_lexer": "ipython3",
   "version": "3.9.10"
  }
 },
 "nbformat": 4,
 "nbformat_minor": 1
}
